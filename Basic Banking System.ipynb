{
 "cells": [
  {
   "cell_type": "code",
   "execution_count": 59,
   "id": "f28a5b28",
   "metadata": {},
   "outputs": [],
   "source": [
    "class Account:\n",
    "    \n",
    "    def __init__(self,owner,balance=0):\n",
    "        \n",
    "        self.owner=owner\n",
    "        self.balance=balance\n",
    "        \n",
    "    def deposit(self,dep_amt):\n",
    "        self.balance=self.balance+dep_amt\n",
    "        print(f\"Amount deposited is {dep_amt}\")\n",
    "        \n",
    "        \n",
    "    def withdraw(self,wd_amt):\n",
    "        \n",
    "        if self.balance>= wd_amt:\n",
    "            self.balance=self.balance -wd_amt\n",
    "            print(f\"amount to be withdrwan is {wd_amt}\")\n",
    "            \n",
    "        else:\n",
    "            print(\"Not enough Balace to withdraw the amount\")\n",
    "            \n",
    "            \n",
    "    def __str__(self):\n",
    "        return f\"Owner:{self.owner} \\nBalance: {self.balance}\""
   ]
  },
  {
   "cell_type": "code",
   "execution_count": 60,
   "id": "553df816",
   "metadata": {},
   "outputs": [],
   "source": [
    "a=Account(\"Harshit\",1000)"
   ]
  },
  {
   "cell_type": "code",
   "execution_count": 62,
   "id": "1aca8beb",
   "metadata": {},
   "outputs": [
    {
     "data": {
      "text/plain": [
       "'Harshit'"
      ]
     },
     "execution_count": 62,
     "metadata": {},
     "output_type": "execute_result"
    }
   ],
   "source": [
    "a.owner"
   ]
  },
  {
   "cell_type": "code",
   "execution_count": 63,
   "id": "ea355536",
   "metadata": {},
   "outputs": [
    {
     "data": {
      "text/plain": [
       "1000"
      ]
     },
     "execution_count": 63,
     "metadata": {},
     "output_type": "execute_result"
    }
   ],
   "source": [
    "a.balance"
   ]
  },
  {
   "cell_type": "code",
   "execution_count": 64,
   "id": "3b2f50da",
   "metadata": {},
   "outputs": [
    {
     "name": "stdout",
     "output_type": "stream",
     "text": [
      "Amount deposited is 500\n"
     ]
    }
   ],
   "source": [
    "a.deposit(500)"
   ]
  },
  {
   "cell_type": "code",
   "execution_count": 65,
   "id": "07c099d0",
   "metadata": {},
   "outputs": [
    {
     "data": {
      "text/plain": [
       "1500"
      ]
     },
     "execution_count": 65,
     "metadata": {},
     "output_type": "execute_result"
    }
   ],
   "source": [
    "a.balance"
   ]
  },
  {
   "cell_type": "code",
   "execution_count": 66,
   "id": "990daec3",
   "metadata": {},
   "outputs": [
    {
     "name": "stdout",
     "output_type": "stream",
     "text": [
      "Not enough Balace to withdraw the amount\n"
     ]
    }
   ],
   "source": [
    "a.withdraw(2000)"
   ]
  },
  {
   "cell_type": "code",
   "execution_count": 67,
   "id": "a9a1c7b6",
   "metadata": {},
   "outputs": [
    {
     "data": {
      "text/plain": [
       "1500"
      ]
     },
     "execution_count": 67,
     "metadata": {},
     "output_type": "execute_result"
    }
   ],
   "source": [
    "a.balance\n"
   ]
  },
  {
   "cell_type": "code",
   "execution_count": 68,
   "id": "2f3733fb",
   "metadata": {},
   "outputs": [
    {
     "name": "stdout",
     "output_type": "stream",
     "text": [
      "Owner:Harshit \n",
      "Balance: 1500\n"
     ]
    }
   ],
   "source": [
    "print(a)"
   ]
  }
 ],
 "metadata": {
  "kernelspec": {
   "display_name": "Python 3",
   "language": "python",
   "name": "python3"
  },
  "language_info": {
   "codemirror_mode": {
    "name": "ipython",
    "version": 3
   },
   "file_extension": ".py",
   "mimetype": "text/x-python",
   "name": "python",
   "nbconvert_exporter": "python",
   "pygments_lexer": "ipython3",
   "version": "3.8.8"
  }
 },
 "nbformat": 4,
 "nbformat_minor": 5
}
